{
 "cells": [
  {
   "cell_type": "code",
   "execution_count": 1,
   "metadata": {
    "collapsed": true
   },
   "outputs": [],
   "source": [
    "import numpy as np"
   ]
  },
  {
   "cell_type": "code",
   "execution_count": 2,
   "metadata": {},
   "outputs": [
    {
     "name": "stdout",
     "output_type": "stream",
     "text": [
      "[1 6 6 5 7 2 3 3 2 2]\n"
     ]
    }
   ],
   "source": [
    "x = np.random.randint( low=0, high=9, size=10)\n",
    "print(x)"
   ]
  },
  {
   "cell_type": "code",
   "execution_count": 3,
   "metadata": {},
   "outputs": [
    {
     "name": "stdout",
     "output_type": "stream",
     "text": [
      "[[ 0.62734104  0.19686662  0.20493573]\n",
      " [ 0.00432309  0.5818361   0.08351909]\n",
      " [ 0.97535607  0.17119634  0.85718257]]\n"
     ]
    }
   ],
   "source": [
    "x = np.random.rand(3, 3)\n",
    "print(x)"
   ]
  },
  {
   "cell_type": "code",
   "execution_count": 4,
   "metadata": {},
   "outputs": [
    {
     "name": "stdout",
     "output_type": "stream",
     "text": [
      "[[[ 0.76794279  0.15633282  0.47520536]\n",
      "  [ 0.13328981  0.19718891  0.97586944]\n",
      "  [ 0.8412306   0.96828094  0.5741657 ]]\n",
      "\n",
      " [[ 0.41294752  0.61829357  0.66721228]\n",
      "  [ 0.45920338  0.7472284   0.42099913]\n",
      "  [ 0.01972766  0.40906302  0.09605649]]\n",
      "\n",
      " [[ 0.36995563  0.72361119  0.69764776]\n",
      "  [ 0.1109215   0.36126957  0.91994188]\n",
      "  [ 0.85732784  0.26339348  0.82096469]]]\n"
     ]
    }
   ],
   "source": [
    "x = np.random.rand(3, 3, 3)\n",
    "print(x)"
   ]
  },
  {
   "cell_type": "code",
   "execution_count": 5,
   "metadata": {},
   "outputs": [
    {
     "name": "stdout",
     "output_type": "stream",
     "text": [
      "[[[ 0.3884877   0.6838992 ]\n",
      "  [ 0.38250086  0.29032266]]\n",
      "\n",
      " [[ 0.97748023  0.15199089]\n",
      "  [ 0.77462267  0.14595816]]]\n"
     ]
    }
   ],
   "source": [
    "x = np.random.rand(2, 2, 2)\n",
    "print(x)"
   ]
  },
  {
   "cell_type": "code",
   "execution_count": null,
   "metadata": {
    "collapsed": true
   },
   "outputs": [],
   "source": []
  }
 ],
 "metadata": {
  "kernelspec": {
   "display_name": "Python 3",
   "language": "python",
   "name": "python3"
  },
  "language_info": {
   "codemirror_mode": {
    "name": "ipython",
    "version": 3
   },
   "file_extension": ".py",
   "mimetype": "text/x-python",
   "name": "python",
   "nbconvert_exporter": "python",
   "pygments_lexer": "ipython3",
   "version": "3.6.1"
  }
 },
 "nbformat": 4,
 "nbformat_minor": 2
}
