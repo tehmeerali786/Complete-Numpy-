{
 "cells": [
  {
   "cell_type": "markdown",
   "metadata": {},
   "source": [
    "# Array Manipulation Routines"
   ]
  },
  {
   "cell_type": "code",
   "execution_count": 2,
   "metadata": {
    "collapsed": true
   },
   "outputs": [],
   "source": [
    "import numpy as np"
   ]
  },
  {
   "cell_type": "code",
   "execution_count": 3,
   "metadata": {},
   "outputs": [
    {
     "name": "stdout",
     "output_type": "stream",
     "text": [
      "[0 1 2 3 4 5]\n"
     ]
    }
   ],
   "source": [
    "x = np.arange(6)\n",
    "print(x)"
   ]
  },
  {
   "cell_type": "code",
   "execution_count": 4,
   "metadata": {},
   "outputs": [
    {
     "name": "stdout",
     "output_type": "stream",
     "text": [
      "[[0 1]\n",
      " [2 3]\n",
      " [4 5]]\n"
     ]
    }
   ],
   "source": [
    "y = x.reshape((3, 2))\n",
    "print(y)"
   ]
  },
  {
   "cell_type": "code",
   "execution_count": 5,
   "metadata": {},
   "outputs": [
    {
     "name": "stdout",
     "output_type": "stream",
     "text": [
      "[[0 1 2]\n",
      " [3 4 5]]\n"
     ]
    }
   ],
   "source": [
    "x = np.array([[0, 1, 2], [3, 4, 5]], dtype=np.uint8)\n",
    "print(x)"
   ]
  },
  {
   "cell_type": "code",
   "execution_count": 6,
   "metadata": {},
   "outputs": [
    {
     "name": "stdout",
     "output_type": "stream",
     "text": [
      "[0 1 2 3 4 5]\n"
     ]
    }
   ],
   "source": [
    "y = np.reshape(x, 6)\n",
    "print(y)"
   ]
  },
  {
   "cell_type": "code",
   "execution_count": 7,
   "metadata": {},
   "outputs": [
    {
     "name": "stdout",
     "output_type": "stream",
     "text": [
      "[[0 1 2]\n",
      " [3 4 5]]\n"
     ]
    }
   ],
   "source": [
    "print(x)"
   ]
  },
  {
   "cell_type": "markdown",
   "metadata": {},
   "source": [
    "#### NP Rav"
   ]
  },
  {
   "cell_type": "code",
   "execution_count": 8,
   "metadata": {},
   "outputs": [
    {
     "name": "stdout",
     "output_type": "stream",
     "text": [
      "[0 1 2 3 4 5]\n"
     ]
    }
   ],
   "source": [
    "y = np.ravel(x)\n",
    "print(y)"
   ]
  },
  {
   "cell_type": "code",
   "execution_count": 9,
   "metadata": {},
   "outputs": [
    {
     "name": "stdout",
     "output_type": "stream",
     "text": [
      "[[0 1 2]\n",
      " [3 4 5]]\n"
     ]
    }
   ],
   "source": [
    "print(x)"
   ]
  },
  {
   "cell_type": "markdown",
   "metadata": {},
   "source": [
    "#### NP Flaten for Image Processing"
   ]
  },
  {
   "cell_type": "code",
   "execution_count": 10,
   "metadata": {},
   "outputs": [
    {
     "name": "stdout",
     "output_type": "stream",
     "text": [
      "[0 1 2 3 4 5]\n"
     ]
    }
   ],
   "source": [
    "y = x.flatten()\n",
    "print(y)"
   ]
  },
  {
   "cell_type": "markdown",
   "metadata": {},
   "source": [
    "#### Row wise of X"
   ]
  },
  {
   "cell_type": "code",
   "execution_count": 11,
   "metadata": {},
   "outputs": [
    {
     "name": "stdout",
     "output_type": "stream",
     "text": [
      "[0 1 2 3 4 5]\n"
     ]
    }
   ],
   "source": [
    "y = x.flatten( 'C' )\n",
    "print(y)"
   ]
  },
  {
   "cell_type": "markdown",
   "metadata": {},
   "source": [
    "#### Column wise of X"
   ]
  },
  {
   "cell_type": "code",
   "execution_count": 12,
   "metadata": {},
   "outputs": [
    {
     "name": "stdout",
     "output_type": "stream",
     "text": [
      "[0 3 1 4 2 5]\n"
     ]
    }
   ],
   "source": [
    "y = x.flatten( 'F' )\n",
    "print(y)"
   ]
  },
  {
   "cell_type": "code",
   "execution_count": null,
   "metadata": {
    "collapsed": true
   },
   "outputs": [],
   "source": []
  },
  {
   "cell_type": "code",
   "execution_count": null,
   "metadata": {
    "collapsed": true
   },
   "outputs": [],
   "source": []
  },
  {
   "cell_type": "code",
   "execution_count": 13,
   "metadata": {},
   "outputs": [
    {
     "name": "stdout",
     "output_type": "stream",
     "text": [
      "uint8\n",
      "[1 2 3]\n",
      "[4 5 6]\n"
     ]
    }
   ],
   "source": [
    "x = np.array([1, 2, 3], dtype = np.uint8)\n",
    "y = np.array([4, 5, 6], dtype = np.uint8)\n",
    "\n",
    "print(x.dtype)\n",
    "\n",
    "print(x)\n",
    "print(y)\n"
   ]
  },
  {
   "cell_type": "code",
   "execution_count": 15,
   "metadata": {},
   "outputs": [
    {
     "name": "stdout",
     "output_type": "stream",
     "text": [
      "[[1 2 3]\n",
      " [4 5 6]]\n"
     ]
    }
   ],
   "source": [
    "z = np.stack((x, y))\n",
    "print(z)"
   ]
  },
  {
   "cell_type": "code",
   "execution_count": 16,
   "metadata": {},
   "outputs": [
    {
     "name": "stdout",
     "output_type": "stream",
     "text": [
      "[[1 2 3]\n",
      " [4 5 6]]\n"
     ]
    }
   ],
   "source": [
    "z = np.stack((x, y), axis = 0)\n",
    "print(z)"
   ]
  },
  {
   "cell_type": "code",
   "execution_count": 19,
   "metadata": {},
   "outputs": [
    {
     "name": "stdout",
     "output_type": "stream",
     "text": [
      "[[1 4]\n",
      " [2 5]\n",
      " [3 6]]\n"
     ]
    }
   ],
   "source": [
    "z = np.stack((x, y), axis = 1)\n",
    "print(z)"
   ]
  },
  {
   "cell_type": "code",
   "execution_count": 20,
   "metadata": {},
   "outputs": [
    {
     "name": "stdout",
     "output_type": "stream",
     "text": [
      "[1 2 3]\n",
      "[4 5 6]\n"
     ]
    }
   ],
   "source": [
    "print(x)\n",
    "print(y)"
   ]
  },
  {
   "cell_type": "markdown",
   "metadata": {},
   "source": [
    "#### Depth Stack"
   ]
  },
  {
   "cell_type": "code",
   "execution_count": 21,
   "metadata": {},
   "outputs": [
    {
     "name": "stdout",
     "output_type": "stream",
     "text": [
      "[[[1 4]\n",
      "  [2 5]\n",
      "  [3 6]]]\n"
     ]
    }
   ],
   "source": [
    "z = np.dstack((x, y))\n",
    "print(z)"
   ]
  },
  {
   "cell_type": "markdown",
   "metadata": {},
   "source": [
    "#### Z Shape"
   ]
  },
  {
   "cell_type": "code",
   "execution_count": 22,
   "metadata": {},
   "outputs": [
    {
     "name": "stdout",
     "output_type": "stream",
     "text": [
      "(1, 3, 2)\n"
     ]
    }
   ],
   "source": [
    "print(z.shape)"
   ]
  },
  {
   "cell_type": "markdown",
   "metadata": {},
   "source": [
    "#### Horizontal Stack"
   ]
  },
  {
   "cell_type": "code",
   "execution_count": 23,
   "metadata": {},
   "outputs": [
    {
     "name": "stdout",
     "output_type": "stream",
     "text": [
      "[1 2 3 4 5 6]\n"
     ]
    }
   ],
   "source": [
    "z = np.hstack((x, y))\n",
    "print(z)"
   ]
  },
  {
   "cell_type": "markdown",
   "metadata": {},
   "source": [
    "#### Vertical Stack"
   ]
  },
  {
   "cell_type": "code",
   "execution_count": 24,
   "metadata": {},
   "outputs": [
    {
     "name": "stdout",
     "output_type": "stream",
     "text": [
      "[[1 2 3]\n",
      " [4 5 6]]\n"
     ]
    }
   ],
   "source": [
    "z = np.vstack((x, y))\n",
    "print(z)"
   ]
  },
  {
   "cell_type": "code",
   "execution_count": 25,
   "metadata": {},
   "outputs": [
    {
     "name": "stdout",
     "output_type": "stream",
     "text": [
      "(2, 3)\n"
     ]
    }
   ],
   "source": [
    "print(z.shape)"
   ]
  },
  {
   "cell_type": "code",
   "execution_count": 26,
   "metadata": {},
   "outputs": [
    {
     "name": "stdout",
     "output_type": "stream",
     "text": [
      "[0 1 2 3 4 5 6 7 8]\n"
     ]
    }
   ],
   "source": [
    "x = np.arange(9)\n",
    "print(x)"
   ]
  },
  {
   "cell_type": "markdown",
   "metadata": {},
   "source": [
    "#### Split"
   ]
  },
  {
   "cell_type": "code",
   "execution_count": 27,
   "metadata": {},
   "outputs": [
    {
     "name": "stdout",
     "output_type": "stream",
     "text": [
      "[0 1 2] [3 4 5] [6 7 8]\n"
     ]
    }
   ],
   "source": [
    "a, b, c = np.split(x, 3)\n",
    "print(a, b, c)"
   ]
  },
  {
   "cell_type": "code",
   "execution_count": 28,
   "metadata": {},
   "outputs": [
    {
     "name": "stdout",
     "output_type": "stream",
     "text": [
      "[[[ 0.79249934  0.88094985  0.8500134   0.6283162 ]\n",
      "  [ 0.09342109  0.96258528  0.11490433  0.77161706]\n",
      "  [ 0.19003871  0.23703101  0.51867684  0.79029596]\n",
      "  [ 0.11426861  0.63875954  0.51243615  0.16715621]]\n",
      "\n",
      " [[ 0.03316508  0.18057899  0.90554827  0.99118914]\n",
      "  [ 0.98154356  0.55942326  0.47072766  0.56069211]\n",
      "  [ 0.60382525  0.51208213  0.36895001  0.89035686]\n",
      "  [ 0.62407394  0.23511017  0.14999916  0.84019364]]\n",
      "\n",
      " [[ 0.27220055  0.69567493  0.90632682  0.88644752]\n",
      "  [ 0.67131156  0.90551741  0.32741439  0.7411959 ]\n",
      "  [ 0.44996498  0.69351787  0.67366943  0.48780896]\n",
      "  [ 0.31045669  0.9935703   0.68678995  0.948608  ]]\n",
      "\n",
      " [[ 0.53864889  0.42224283  0.04557687  0.36057728]\n",
      "  [ 0.02262667  0.61314263  0.89269828  0.58914805]\n",
      "  [ 0.16971711  0.80440382  0.98989538  0.65351208]\n",
      "  [ 0.58026222  0.53185372  0.73500249  0.58254684]]]\n"
     ]
    }
   ],
   "source": [
    "x = np.random.rand(4, 4, 4)\n",
    "print(x)"
   ]
  },
  {
   "cell_type": "code",
   "execution_count": 29,
   "metadata": {},
   "outputs": [
    {
     "name": "stdout",
     "output_type": "stream",
     "text": [
      "[[[ 0.79249934  0.88094985  0.8500134   0.6283162 ]\n",
      "  [ 0.09342109  0.96258528  0.11490433  0.77161706]\n",
      "  [ 0.19003871  0.23703101  0.51867684  0.79029596]\n",
      "  [ 0.11426861  0.63875954  0.51243615  0.16715621]]\n",
      "\n",
      " [[ 0.03316508  0.18057899  0.90554827  0.99118914]\n",
      "  [ 0.98154356  0.55942326  0.47072766  0.56069211]\n",
      "  [ 0.60382525  0.51208213  0.36895001  0.89035686]\n",
      "  [ 0.62407394  0.23511017  0.14999916  0.84019364]]] [[[ 0.27220055  0.69567493  0.90632682  0.88644752]\n",
      "  [ 0.67131156  0.90551741  0.32741439  0.7411959 ]\n",
      "  [ 0.44996498  0.69351787  0.67366943  0.48780896]\n",
      "  [ 0.31045669  0.9935703   0.68678995  0.948608  ]]\n",
      "\n",
      " [[ 0.53864889  0.42224283  0.04557687  0.36057728]\n",
      "  [ 0.02262667  0.61314263  0.89269828  0.58914805]\n",
      "  [ 0.16971711  0.80440382  0.98989538  0.65351208]\n",
      "  [ 0.58026222  0.53185372  0.73500249  0.58254684]]]\n"
     ]
    }
   ],
   "source": [
    "y, z = np.split(x, 2)\n",
    "print(y, z)\n"
   ]
  },
  {
   "cell_type": "markdown",
   "metadata": {},
   "source": [
    "#### Depth Split"
   ]
  },
  {
   "cell_type": "code",
   "execution_count": 30,
   "metadata": {},
   "outputs": [
    {
     "name": "stdout",
     "output_type": "stream",
     "text": [
      "[[[ 0.79249934  0.88094985]\n",
      "  [ 0.09342109  0.96258528]\n",
      "  [ 0.19003871  0.23703101]\n",
      "  [ 0.11426861  0.63875954]]\n",
      "\n",
      " [[ 0.03316508  0.18057899]\n",
      "  [ 0.98154356  0.55942326]\n",
      "  [ 0.60382525  0.51208213]\n",
      "  [ 0.62407394  0.23511017]]\n",
      "\n",
      " [[ 0.27220055  0.69567493]\n",
      "  [ 0.67131156  0.90551741]\n",
      "  [ 0.44996498  0.69351787]\n",
      "  [ 0.31045669  0.9935703 ]]\n",
      "\n",
      " [[ 0.53864889  0.42224283]\n",
      "  [ 0.02262667  0.61314263]\n",
      "  [ 0.16971711  0.80440382]\n",
      "  [ 0.58026222  0.53185372]]] [[[ 0.8500134   0.6283162 ]\n",
      "  [ 0.11490433  0.77161706]\n",
      "  [ 0.51867684  0.79029596]\n",
      "  [ 0.51243615  0.16715621]]\n",
      "\n",
      " [[ 0.90554827  0.99118914]\n",
      "  [ 0.47072766  0.56069211]\n",
      "  [ 0.36895001  0.89035686]\n",
      "  [ 0.14999916  0.84019364]]\n",
      "\n",
      " [[ 0.90632682  0.88644752]\n",
      "  [ 0.32741439  0.7411959 ]\n",
      "  [ 0.67366943  0.48780896]\n",
      "  [ 0.68678995  0.948608  ]]\n",
      "\n",
      " [[ 0.04557687  0.36057728]\n",
      "  [ 0.89269828  0.58914805]\n",
      "  [ 0.98989538  0.65351208]\n",
      "  [ 0.73500249  0.58254684]]]\n"
     ]
    }
   ],
   "source": [
    "y, z = np.dsplit(x, 2)\n",
    "print(y, z)\n"
   ]
  },
  {
   "cell_type": "markdown",
   "metadata": {},
   "source": [
    "#### Height or Horizontal Split"
   ]
  },
  {
   "cell_type": "code",
   "execution_count": 31,
   "metadata": {},
   "outputs": [
    {
     "name": "stdout",
     "output_type": "stream",
     "text": [
      "[[[ 0.79249934  0.88094985  0.8500134   0.6283162 ]\n",
      "  [ 0.09342109  0.96258528  0.11490433  0.77161706]]\n",
      "\n",
      " [[ 0.03316508  0.18057899  0.90554827  0.99118914]\n",
      "  [ 0.98154356  0.55942326  0.47072766  0.56069211]]\n",
      "\n",
      " [[ 0.27220055  0.69567493  0.90632682  0.88644752]\n",
      "  [ 0.67131156  0.90551741  0.32741439  0.7411959 ]]\n",
      "\n",
      " [[ 0.53864889  0.42224283  0.04557687  0.36057728]\n",
      "  [ 0.02262667  0.61314263  0.89269828  0.58914805]]] [[[ 0.19003871  0.23703101  0.51867684  0.79029596]\n",
      "  [ 0.11426861  0.63875954  0.51243615  0.16715621]]\n",
      "\n",
      " [[ 0.60382525  0.51208213  0.36895001  0.89035686]\n",
      "  [ 0.62407394  0.23511017  0.14999916  0.84019364]]\n",
      "\n",
      " [[ 0.44996498  0.69351787  0.67366943  0.48780896]\n",
      "  [ 0.31045669  0.9935703   0.68678995  0.948608  ]]\n",
      "\n",
      " [[ 0.16971711  0.80440382  0.98989538  0.65351208]\n",
      "  [ 0.58026222  0.53185372  0.73500249  0.58254684]]]\n"
     ]
    }
   ],
   "source": [
    "y, z = np.hsplit(x, 2)\n",
    "print(y, z)"
   ]
  },
  {
   "cell_type": "markdown",
   "metadata": {},
   "source": [
    "#### Veritical Split"
   ]
  },
  {
   "cell_type": "code",
   "execution_count": 32,
   "metadata": {},
   "outputs": [
    {
     "name": "stdout",
     "output_type": "stream",
     "text": [
      "[[[ 0.79249934  0.88094985  0.8500134   0.6283162 ]\n",
      "  [ 0.09342109  0.96258528  0.11490433  0.77161706]\n",
      "  [ 0.19003871  0.23703101  0.51867684  0.79029596]\n",
      "  [ 0.11426861  0.63875954  0.51243615  0.16715621]]\n",
      "\n",
      " [[ 0.03316508  0.18057899  0.90554827  0.99118914]\n",
      "  [ 0.98154356  0.55942326  0.47072766  0.56069211]\n",
      "  [ 0.60382525  0.51208213  0.36895001  0.89035686]\n",
      "  [ 0.62407394  0.23511017  0.14999916  0.84019364]]] [[[ 0.27220055  0.69567493  0.90632682  0.88644752]\n",
      "  [ 0.67131156  0.90551741  0.32741439  0.7411959 ]\n",
      "  [ 0.44996498  0.69351787  0.67366943  0.48780896]\n",
      "  [ 0.31045669  0.9935703   0.68678995  0.948608  ]]\n",
      "\n",
      " [[ 0.53864889  0.42224283  0.04557687  0.36057728]\n",
      "  [ 0.02262667  0.61314263  0.89269828  0.58914805]\n",
      "  [ 0.16971711  0.80440382  0.98989538  0.65351208]\n",
      "  [ 0.58026222  0.53185372  0.73500249  0.58254684]]]\n"
     ]
    }
   ],
   "source": [
    "y, z = np.vsplit(x, 2)\n",
    "print(y, z)"
   ]
  },
  {
   "cell_type": "code",
   "execution_count": 33,
   "metadata": {},
   "outputs": [
    {
     "name": "stdout",
     "output_type": "stream",
     "text": [
      "[[ 0  1  2  3]\n",
      " [ 4  5  6  7]\n",
      " [ 8  9 10 11]\n",
      " [12 13 14 15]]\n"
     ]
    }
   ],
   "source": [
    "x = np.arange(16).reshape(4, 4)\n",
    "print(x)"
   ]
  },
  {
   "cell_type": "markdown",
   "metadata": {},
   "source": [
    "#### Array Flip"
   ]
  },
  {
   "cell_type": "code",
   "execution_count": 34,
   "metadata": {},
   "outputs": [
    {
     "name": "stdout",
     "output_type": "stream",
     "text": [
      "[[ 3  2  1  0]\n",
      " [ 7  6  5  4]\n",
      " [11 10  9  8]\n",
      " [15 14 13 12]]\n"
     ]
    }
   ],
   "source": [
    "y = np.flip(x, axis=-1)\n",
    "print(y)"
   ]
  },
  {
   "cell_type": "code",
   "execution_count": 35,
   "metadata": {},
   "outputs": [
    {
     "name": "stdout",
     "output_type": "stream",
     "text": [
      "[[12 13 14 15]\n",
      " [ 8  9 10 11]\n",
      " [ 4  5  6  7]\n",
      " [ 0  1  2  3]]\n"
     ]
    }
   ],
   "source": [
    "y = np.flip(x, axis= 0)\n",
    "print(y)"
   ]
  },
  {
   "cell_type": "code",
   "execution_count": 36,
   "metadata": {},
   "outputs": [
    {
     "name": "stdout",
     "output_type": "stream",
     "text": [
      "[[ 3  2  1  0]\n",
      " [ 7  6  5  4]\n",
      " [11 10  9  8]\n",
      " [15 14 13 12]]\n"
     ]
    }
   ],
   "source": [
    "y = np.flip(x, axis=1)\n",
    "print(y)"
   ]
  },
  {
   "cell_type": "markdown",
   "metadata": {},
   "source": [
    "#### Array Flip left to right"
   ]
  },
  {
   "cell_type": "code",
   "execution_count": 38,
   "metadata": {},
   "outputs": [
    {
     "name": "stdout",
     "output_type": "stream",
     "text": [
      "[[ 0  1  2  3]\n",
      " [ 4  5  6  7]\n",
      " [ 8  9 10 11]\n",
      " [12 13 14 15]]\n",
      "[[ 3  2  1  0]\n",
      " [ 7  6  5  4]\n",
      " [11 10  9  8]\n",
      " [15 14 13 12]]\n"
     ]
    }
   ],
   "source": [
    "y = np.fliplr(x)\n",
    "print(x)\n",
    "print(y)"
   ]
  },
  {
   "cell_type": "markdown",
   "metadata": {},
   "source": [
    "#### Array Flip Up Down"
   ]
  },
  {
   "cell_type": "code",
   "execution_count": 40,
   "metadata": {},
   "outputs": [
    {
     "name": "stdout",
     "output_type": "stream",
     "text": [
      "[[ 0  1  2  3]\n",
      " [ 4  5  6  7]\n",
      " [ 8  9 10 11]\n",
      " [12 13 14 15]]\n",
      "[[12 13 14 15]\n",
      " [ 8  9 10 11]\n",
      " [ 4  5  6  7]\n",
      " [ 0  1  2  3]]\n"
     ]
    }
   ],
   "source": [
    "y = np.flipud(x)\n",
    "print(x)\n",
    "print(y)"
   ]
  },
  {
   "cell_type": "markdown",
   "metadata": {},
   "source": [
    "#### Array Roll"
   ]
  },
  {
   "cell_type": "markdown",
   "metadata": {},
   "source": [
    "#### First 8 elment shifted to last 8. While, last 8 shifted to first 8 elements. This is Roll"
   ]
  },
  {
   "cell_type": "code",
   "execution_count": 41,
   "metadata": {},
   "outputs": [
    {
     "name": "stdout",
     "output_type": "stream",
     "text": [
      "[[ 0  1  2  3]\n",
      " [ 4  5  6  7]\n",
      " [ 8  9 10 11]\n",
      " [12 13 14 15]]\n",
      "[[ 8  9 10 11]\n",
      " [12 13 14 15]\n",
      " [ 0  1  2  3]\n",
      " [ 4  5  6  7]]\n"
     ]
    }
   ],
   "source": [
    "y = np.roll(x, 8)\n",
    "print(x)\n",
    "print(y)"
   ]
  },
  {
   "cell_type": "markdown",
   "metadata": {},
   "source": [
    "#### Array Rotation"
   ]
  },
  {
   "cell_type": "markdown",
   "metadata": {},
   "source": [
    "#### Rotating Array 90 Degrees Anti Clockwise"
   ]
  },
  {
   "cell_type": "code",
   "execution_count": 42,
   "metadata": {},
   "outputs": [
    {
     "name": "stdout",
     "output_type": "stream",
     "text": [
      "[[ 0  1  2  3]\n",
      " [ 4  5  6  7]\n",
      " [ 8  9 10 11]\n",
      " [12 13 14 15]]\n",
      "[[ 3  7 11 15]\n",
      " [ 2  6 10 14]\n",
      " [ 1  5  9 13]\n",
      " [ 0  4  8 12]]\n"
     ]
    }
   ],
   "source": [
    "y = np.rot90(x)\n",
    "print(x)\n",
    "print(y)"
   ]
  },
  {
   "cell_type": "code",
   "execution_count": null,
   "metadata": {
    "collapsed": true
   },
   "outputs": [],
   "source": []
  }
 ],
 "metadata": {
  "kernelspec": {
   "display_name": "Python 3",
   "language": "python",
   "name": "python3"
  },
  "language_info": {
   "codemirror_mode": {
    "name": "ipython",
    "version": 3
   },
   "file_extension": ".py",
   "mimetype": "text/x-python",
   "name": "python",
   "nbconvert_exporter": "python",
   "pygments_lexer": "ipython3",
   "version": "3.6.1"
  }
 },
 "nbformat": 4,
 "nbformat_minor": 2
}
