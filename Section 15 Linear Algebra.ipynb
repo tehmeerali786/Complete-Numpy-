{
 "cells": [
  {
   "cell_type": "code",
   "execution_count": 1,
   "metadata": {
    "collapsed": true
   },
   "outputs": [],
   "source": [
    "import numpy as np"
   ]
  },
  {
   "cell_type": "markdown",
   "metadata": {},
   "source": [
    "# Dot Product"
   ]
  },
  {
   "cell_type": "code",
   "execution_count": 2,
   "metadata": {},
   "outputs": [
    {
     "name": "stdout",
     "output_type": "stream",
     "text": [
      "50\n"
     ]
    }
   ],
   "source": [
    "print(np.dot(10, 5))"
   ]
  },
  {
   "cell_type": "code",
   "execution_count": 3,
   "metadata": {},
   "outputs": [
    {
     "name": "stdout",
     "output_type": "stream",
     "text": [
      "34\n"
     ]
    }
   ],
   "source": [
    "a = np.array([2, 4], np.uint8)\n",
    "b = np.array([5, 6], np.uint8)\n",
    "\n",
    "print(np.dot(a, b))"
   ]
  },
  {
   "cell_type": "markdown",
   "metadata": {},
   "source": [
    "#### In Matrices multiplications, number of column of first matrix must match with number of rows of second matrix"
   ]
  },
  {
   "cell_type": "code",
   "execution_count": 5,
   "metadata": {},
   "outputs": [
    {
     "name": "stdout",
     "output_type": "stream",
     "text": [
      "[[46 24]\n",
      " [97 54]]\n"
     ]
    }
   ],
   "source": [
    "a = np.array([[2, 4], [5, 8]], np.uint8)\n",
    "b = np.array([[5, 6], [9, 3]], np.uint8)\n",
    "\n",
    "print(np.dot(a, b))"
   ]
  },
  {
   "cell_type": "markdown",
   "metadata": {},
   "source": [
    "#### linalg stands for Linear Algebra. So, it is multi_dot product"
   ]
  },
  {
   "cell_type": "code",
   "execution_count": 8,
   "metadata": {},
   "outputs": [
    {
     "name": "stdout",
     "output_type": "stream",
     "text": [
      "[[ 1.02161281  2.07297705  1.5417411   1.84791818]\n",
      " [ 0.96858729  1.97969355  1.5271633   1.76539445]\n",
      " [ 1.21514568  2.46715186  1.84054201  2.1993633 ]\n",
      " [ 0.84215572  1.71725935  1.30943277  1.53119206]\n",
      " [ 0.87549322  1.78607728  1.36510279  1.59259034]\n",
      " [ 1.44852138  2.95379177  2.25260234  2.63374801]\n",
      " [ 0.90579209  1.83104998  1.33534305  1.63195129]\n",
      " [ 1.22356362  2.48170352  1.84167959  2.2122234 ]\n",
      " [ 1.05063812  2.13892091  1.61777261  1.90701396]\n",
      " [ 1.80118908  3.65992157  2.74149035  3.26279618]]\n"
     ]
    }
   ],
   "source": [
    "a = np.random.rand(10, 5)\n",
    "b = np.random.rand(5, 2)\n",
    "c = np.random.rand(2, 3)\n",
    "d = np.random.rand(3, 4)\n",
    "\n",
    "e = np.linalg.multi_dot([a, b, c ,d])\n",
    "print(e)"
   ]
  },
  {
   "cell_type": "markdown",
   "metadata": {},
   "source": [
    "# Vector Dot Product"
   ]
  },
  {
   "cell_type": "code",
   "execution_count": 9,
   "metadata": {},
   "outputs": [
    {
     "name": "stdout",
     "output_type": "stream",
     "text": [
      "11\n"
     ]
    }
   ],
   "source": [
    "a = np.array([1, 2])\n",
    "b = np.array([3, 4])\n",
    "\n",
    "print(np.vdot(a, b))"
   ]
  },
  {
   "cell_type": "code",
   "execution_count": 11,
   "metadata": {},
   "outputs": [
    {
     "name": "stdout",
     "output_type": "stream",
     "text": [
      "(42-11j)\n"
     ]
    }
   ],
   "source": [
    "a = np.array([1 + 5j, 2 + 3j])\n",
    "b = np.array([3 + 2j, 4 + 7j])\n",
    "\n",
    "print(np.vdot(a, b))"
   ]
  },
  {
   "cell_type": "code",
   "execution_count": 13,
   "metadata": {},
   "outputs": [
    {
     "name": "stdout",
     "output_type": "stream",
     "text": [
      "(42+11j)\n"
     ]
    }
   ],
   "source": [
    "print(np.vdot(b, a))"
   ]
  },
  {
   "cell_type": "markdown",
   "metadata": {},
   "source": [
    "# Inner Product"
   ]
  },
  {
   "cell_type": "code",
   "execution_count": 14,
   "metadata": {},
   "outputs": [
    {
     "name": "stdout",
     "output_type": "stream",
     "text": [
      "12\n"
     ]
    }
   ],
   "source": [
    "a = np.array([1, 2, 3, 4, 5, 6])\n",
    "b = np.array([0, 1, 0, 1, 0, 1])\n",
    "\n",
    "print(np.inner(a, b))"
   ]
  },
  {
   "cell_type": "code",
   "execution_count": 15,
   "metadata": {},
   "outputs": [
    {
     "name": "stdout",
     "output_type": "stream",
     "text": [
      "[[ 2  4]\n",
      " [ 5 10]]\n"
     ]
    }
   ],
   "source": [
    "a = np.array([[1, 2, 3], [4, 5, 6]])\n",
    "b = np.array([[0, 1, 0], [1, 0, 1]])\n",
    "\n",
    "print(np.inner(a, b))"
   ]
  },
  {
   "cell_type": "markdown",
   "metadata": {},
   "source": [
    "# QR Decomposition"
   ]
  },
  {
   "cell_type": "code",
   "execution_count": 16,
   "metadata": {},
   "outputs": [
    {
     "name": "stdout",
     "output_type": "stream",
     "text": [
      "[[ 0.06096886  0.35771268  0.94729211]\n",
      " [ 0.57340598  0.90108394  0.92015713]\n",
      " [ 0.40029059  0.46415691  0.61758131]]\n"
     ]
    }
   ],
   "source": [
    "a = np.random.rand(3, 3)\n",
    "print(a)"
   ]
  },
  {
   "cell_type": "code",
   "execution_count": 17,
   "metadata": {},
   "outputs": [
    {
     "name": "stdout",
     "output_type": "stream",
     "text": [
      "q=  [[-0.0868555   0.890194    0.44722563]\n",
      " [-0.81686722  0.19332974 -0.54346256]\n",
      " [-0.57024912 -0.41252667  0.71037855]] \n",
      "\n",
      "r =  [[-0.70195739 -1.03182032 -1.18609893]\n",
      " [ 0.          0.3011629   0.76639873]\n",
      " [ 0.          0.          0.36229887]] \n",
      "\n",
      "[[ 0.06096886  0.35771268  0.94729211]\n",
      " [ 0.57340598  0.90108394  0.92015713]\n",
      " [ 0.40029059  0.46415691  0.61758131]]\n"
     ]
    }
   ],
   "source": [
    "q, r = np.linalg.qr(a)\n",
    "print('q= ', q, '\\n\\nr = ', r, '\\n')\n",
    "\n",
    "print(np.dot(q, r))"
   ]
  },
  {
   "cell_type": "markdown",
   "metadata": {},
   "source": [
    "# Determinent and Solving Linear Equations"
   ]
  },
  {
   "cell_type": "markdown",
   "metadata": {},
   "source": [
    "#### Determinent"
   ]
  },
  {
   "cell_type": "code",
   "execution_count": 18,
   "metadata": {},
   "outputs": [
    {
     "name": "stdout",
     "output_type": "stream",
     "text": [
      "2.0\n"
     ]
    }
   ],
   "source": [
    "a = np.array([[5, 6], [3, 4]])\n",
    "\n",
    "print(np.linalg.det(a))"
   ]
  },
  {
   "cell_type": "code",
   "execution_count": 21,
   "metadata": {},
   "outputs": [
    {
     "name": "stdout",
     "output_type": "stream",
     "text": [
      "[ 2.  1.  3.]\n"
     ]
    }
   ],
   "source": [
    "a = np.array([[2, 1, -3], [4, -2, 1], [3, 5, -2]], np.int16)\n",
    "\n",
    "b = np.array([-4, 9, 5], np.int16)\n",
    "\n",
    "# ax =b\n",
    "\n",
    "x = np.linalg.solve(a, b)\n",
    "print(x)"
   ]
  },
  {
   "cell_type": "code",
   "execution_count": null,
   "metadata": {
    "collapsed": true
   },
   "outputs": [],
   "source": []
  }
 ],
 "metadata": {
  "kernelspec": {
   "display_name": "Python 3",
   "language": "python",
   "name": "python3"
  },
  "language_info": {
   "codemirror_mode": {
    "name": "ipython",
    "version": 3
   },
   "file_extension": ".py",
   "mimetype": "text/x-python",
   "name": "python",
   "nbconvert_exporter": "python",
   "pygments_lexer": "ipython3",
   "version": "3.6.1"
  }
 },
 "nbformat": 4,
 "nbformat_minor": 2
}
